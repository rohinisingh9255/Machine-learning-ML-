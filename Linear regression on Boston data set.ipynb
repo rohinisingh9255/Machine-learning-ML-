{
 "cells": [
  {
   "cell_type": "code",
   "execution_count": 2,
   "id": "eae5a896",
   "metadata": {},
   "outputs": [],
   "source": [
    "from sklearn.datasets import load_boston\n",
    "boston = load_boston()"
   ]
  },
  {
   "cell_type": "code",
   "execution_count": 3,
   "id": "ed6f9e35",
   "metadata": {},
   "outputs": [
    {
     "data": {
      "text/plain": [
       "sklearn.utils.Bunch"
      ]
     },
     "execution_count": 3,
     "metadata": {},
     "output_type": "execute_result"
    }
   ],
   "source": [
    "type(boston)"
   ]
  },
  {
   "cell_type": "code",
   "execution_count": 4,
   "id": "22d5ca3d",
   "metadata": {},
   "outputs": [
    {
     "data": {
      "text/plain": [
       "dict_keys(['data', 'target', 'feature_names', 'DESCR', 'filename'])"
      ]
     },
     "execution_count": 4,
     "metadata": {},
     "output_type": "execute_result"
    }
   ],
   "source": [
    "boston.keys()"
   ]
  },
  {
   "cell_type": "code",
   "execution_count": null,
   "id": "5d272cbd",
   "metadata": {},
   "outputs": [],
   "source": [
    "print(boston)"
   ]
  },
  {
   "cell_type": "code",
   "execution_count": 5,
   "id": "ba6b7524",
   "metadata": {},
   "outputs": [
    {
     "data": {
      "text/plain": [
       "array([[6.3200e-03, 1.8000e+01, 2.3100e+00, ..., 1.5300e+01, 3.9690e+02,\n",
       "        4.9800e+00],\n",
       "       [2.7310e-02, 0.0000e+00, 7.0700e+00, ..., 1.7800e+01, 3.9690e+02,\n",
       "        9.1400e+00],\n",
       "       [2.7290e-02, 0.0000e+00, 7.0700e+00, ..., 1.7800e+01, 3.9283e+02,\n",
       "        4.0300e+00],\n",
       "       ...,\n",
       "       [6.0760e-02, 0.0000e+00, 1.1930e+01, ..., 2.1000e+01, 3.9690e+02,\n",
       "        5.6400e+00],\n",
       "       [1.0959e-01, 0.0000e+00, 1.1930e+01, ..., 2.1000e+01, 3.9345e+02,\n",
       "        6.4800e+00],\n",
       "       [4.7410e-02, 0.0000e+00, 1.1930e+01, ..., 2.1000e+01, 3.9690e+02,\n",
       "        7.8800e+00]])"
      ]
     },
     "execution_count": 5,
     "metadata": {},
     "output_type": "execute_result"
    }
   ],
   "source": [
    "boston['data']"
   ]
  },
  {
   "cell_type": "code",
   "execution_count": 6,
   "id": "85e0db70",
   "metadata": {},
   "outputs": [
    {
     "data": {
      "text/plain": [
       "(506, 13)"
      ]
     },
     "execution_count": 6,
     "metadata": {},
     "output_type": "execute_result"
    }
   ],
   "source": [
    "boston['data'].shape"
   ]
  },
  {
   "cell_type": "code",
   "execution_count": 7,
   "id": "91efe957",
   "metadata": {},
   "outputs": [],
   "source": [
    "from sklearn.linear_model import LinearRegression\n",
    "from sklearn.model_selection import train_test_split"
   ]
  },
  {
   "cell_type": "code",
   "execution_count": 8,
   "id": "9641954c",
   "metadata": {},
   "outputs": [],
   "source": [
    "X_train,X_test,y_train,y_test = train_test_split(boston['data'],boston['target'],test_size=0.30)"
   ]
  },
  {
   "cell_type": "code",
   "execution_count": 9,
   "id": "b935df02",
   "metadata": {},
   "outputs": [
    {
     "data": {
      "text/plain": [
       "(354, 13)"
      ]
     },
     "execution_count": 9,
     "metadata": {},
     "output_type": "execute_result"
    }
   ],
   "source": [
    "X_train.shape"
   ]
  },
  {
   "cell_type": "code",
   "execution_count": 10,
   "id": "b253eec6",
   "metadata": {},
   "outputs": [
    {
     "data": {
      "text/plain": [
       "(354,)"
      ]
     },
     "execution_count": 10,
     "metadata": {},
     "output_type": "execute_result"
    }
   ],
   "source": [
    "y_train.shape"
   ]
  },
  {
   "cell_type": "code",
   "execution_count": 11,
   "id": "517be016",
   "metadata": {},
   "outputs": [],
   "source": [
    "lr = LinearRegression()"
   ]
  },
  {
   "cell_type": "code",
   "execution_count": 12,
   "id": "0b77f2da",
   "metadata": {},
   "outputs": [],
   "source": [
    "model = lr.fit(X_train,y_train)\n"
   ]
  },
  {
   "cell_type": "code",
   "execution_count": 13,
   "id": "1cc1ef5c",
   "metadata": {},
   "outputs": [
    {
     "data": {
      "text/plain": [
       "0.716403691490276"
      ]
     },
     "execution_count": 13,
     "metadata": {},
     "output_type": "execute_result"
    }
   ],
   "source": [
    "lr.score(X_test,y_test)\n"
   ]
  },
  {
   "cell_type": "code",
   "execution_count": 14,
   "id": "bc88950e",
   "metadata": {},
   "outputs": [
    {
     "data": {
      "text/plain": [
       "31.671390036015325"
      ]
     },
     "execution_count": 14,
     "metadata": {},
     "output_type": "execute_result"
    }
   ],
   "source": [
    "lr.intercept_\n",
    "\n"
   ]
  },
  {
   "cell_type": "code",
   "execution_count": 15,
   "id": "fa9b23f7",
   "metadata": {},
   "outputs": [
    {
     "data": {
      "text/plain": [
       "array([-1.08950411e-01,  5.40705268e-02,  3.21143746e-02,  2.23540075e+00,\n",
       "       -1.41086822e+01,  3.90730512e+00, -1.19285002e-02, -1.37733429e+00,\n",
       "        3.17641008e-01, -1.28244957e-02, -9.09252053e-01,  1.26029891e-02,\n",
       "       -4.87827566e-01])"
      ]
     },
     "execution_count": 15,
     "metadata": {},
     "output_type": "execute_result"
    }
   ],
   "source": [
    "lr.coef_\n"
   ]
  },
  {
   "cell_type": "code",
   "execution_count": null,
   "id": "b5e0aa23",
   "metadata": {},
   "outputs": [],
   "source": []
  },
  {
   "cell_type": "code",
   "execution_count": 16,
   "id": "a7f01ac3",
   "metadata": {},
   "outputs": [
    {
     "data": {
      "text/plain": [
       "array([12.1, 29.1, 20. , 15.1, 17.5, 13.4, 12.5, 33.2, 20.5, 14.4, 24.8,\n",
       "       22. , 15.6, 10.5,  8.1, 24.1, 19.9, 22.2, 20. , 21.7, 19.1, 17.1,\n",
       "       30.3, 24.7, 13.5, 21.4, 23.8,  8.7, 50. , 22.9, 16.6, 23. , 16.7,\n",
       "       31.7, 23.9, 19.3, 21.4, 45.4, 31.2, 50. , 20.2, 17.9, 12.6, 29.1,\n",
       "       28.4, 39.8, 26.4, 19.2, 46.7, 22.9, 19.9, 50. , 18.1, 27.1, 50. ,\n",
       "       20.3, 13.1, 23.8, 20.3, 44.8, 23. , 37.3, 24.8, 25. , 13.6, 22.6,\n",
       "       48.3, 23.3, 37.2, 21.8, 22. , 23.5, 17.5,  7. , 27.9, 17.8, 21.7,\n",
       "       50. , 17.5, 20.7, 33.1, 24.5, 29.6, 21.2, 13.4, 24.1,  5.6, 22.6,\n",
       "       26.2, 18.4, 20.4, 19.7, 23.1, 22.3, 33.8, 19.9, 18. , 29.9, 17.8,\n",
       "       17.3, 24.6, 14.5, 25.1, 24. , 20.3, 26.6, 27.9, 23.8, 13.2, 32. ,\n",
       "       31.5, 26.4, 22.2, 12.7, 11.3, 15.6, 23.7, 22.6, 28.7, 24.4, 13. ,\n",
       "       23.1, 22.5, 19.5, 25. , 11.7, 28.2, 21.9, 22.1, 25. ,  6.3, 22.6,\n",
       "       26.6, 20. , 17.8, 18.5, 14. , 19. ,  8.4, 21.1, 35.4,  8.3, 14.6,\n",
       "       13.5, 20.8, 22.9, 50. , 43.5, 19.6, 20.1, 50. , 19.1])"
      ]
     },
     "execution_count": 16,
     "metadata": {},
     "output_type": "execute_result"
    }
   ],
   "source": [
    "y_test"
   ]
  },
  {
   "cell_type": "code",
   "execution_count": 17,
   "id": "7718408f",
   "metadata": {},
   "outputs": [],
   "source": [
    "predictions = lr.predict(X_test)\n"
   ]
  },
  {
   "cell_type": "code",
   "execution_count": 18,
   "id": "3061fc7c",
   "metadata": {},
   "outputs": [
    {
     "data": {
      "text/plain": [
       "array([18.54967897, 31.7093652 , 19.00927041, 17.46963466, 16.52369211,\n",
       "       13.1910421 , 19.67550538, 31.60700574, 19.6476294 ,  9.0801164 ,\n",
       "       26.08113074, 27.51534775, 15.48257077,  6.6037181 ,  3.57886397,\n",
       "       25.64328187, 18.40723341, 19.56295669, 16.19516228, 23.00126771,\n",
       "       23.60945014, 17.83642954, 32.8311697 , 24.89753534, 13.09735783,\n",
       "       23.68021956, 25.5486016 ,  8.29687035, 40.58831822, 22.93625757,\n",
       "       17.72033262, 19.85741252, 19.61661737, 32.65846051, 26.6032833 ,\n",
       "       21.06221886, 21.78064476, 38.24396484, 29.03434685, 43.53194429,\n",
       "       22.7350616 ,  0.84181431, 18.56781609, 30.47141323, 27.85166002,\n",
       "       34.01985457, 29.15120301, 19.89144485, 35.53584967, 28.85687612,\n",
       "       19.3595003 , 25.26132581, 17.2746275 , 27.08049016, 36.46428811,\n",
       "       22.25547889, 20.55831015, 24.74138973, 19.45544337, 37.71879123,\n",
       "       28.72433245, 34.83671277, 27.36253602, 24.45309659, 12.2993957 ,\n",
       "       22.92079818, 36.66718136, 28.39234634, 32.37552808, 20.66171744,\n",
       "       22.03725361, 30.77819619, 18.34271508,  8.03309583, 19.58548535,\n",
       "       17.51125413, 22.83013473, 31.68300942, 16.77946508, 25.11152878,\n",
       "       34.54613506, 28.22823152, 24.31941006, 23.03179901, 14.95565203,\n",
       "       21.04397555, 12.41679863, 19.83959114, 24.59517137, 15.69981896,\n",
       "       20.26877254, 14.15690688,  9.56622297, 27.36370748, 34.60708106,\n",
       "       20.28296686, 18.87260135, 30.75405397, 16.46585166, 16.456498  ,\n",
       "       28.44576557, 13.62801753, 29.20448634, 24.92139817, 23.19430972,\n",
       "       27.32133295, 32.31255111, 25.03183465,  8.61877678, 33.67435685,\n",
       "       32.23596681, 21.96737257, 24.11274785, 12.00554615, 13.84167953,\n",
       "       12.81094898, 26.91038317, 24.17345115, 30.27909898, 23.61168818,\n",
       "       17.39372153, 17.47046297, 17.7193785 , 20.28710894, 29.21826915,\n",
       "       15.32320281, 32.37496878, 37.27652118, 26.60880229, 25.10300474,\n",
       "       11.6229044 , 25.90060146, 22.55930762, 21.99440837, 19.72318369,\n",
       "       24.56631803, 13.82110133, 21.38107495, 14.34844821, 20.94413978,\n",
       "       34.14002653, 13.2560563 , 19.20393449, 12.20342054, 18.12475245,\n",
       "       20.72817362, 39.33028706, 39.07301381, 18.45932335, 20.74358717,\n",
       "       39.1556518 , 16.85098684])"
      ]
     },
     "execution_count": 18,
     "metadata": {},
     "output_type": "execute_result"
    }
   ],
   "source": [
    "predictions\n"
   ]
  },
  {
   "cell_type": "code",
   "execution_count": 19,
   "id": "a8d134e2",
   "metadata": {},
   "outputs": [],
   "source": [
    "from sklearn import metrics\n",
    "import numpy as np"
   ]
  },
  {
   "cell_type": "code",
   "execution_count": 20,
   "id": "bc2d3a42",
   "metadata": {},
   "outputs": [
    {
     "name": "stdout",
     "output_type": "stream",
     "text": [
      "MAE 3.466725707715881\n"
     ]
    }
   ],
   "source": [
    "print(\"MAE\",metrics.mean_absolute_error(y_test,predictions))\n"
   ]
  },
  {
   "cell_type": "code",
   "execution_count": 21,
   "id": "e2c5ab91",
   "metadata": {},
   "outputs": [
    {
     "name": "stdout",
     "output_type": "stream",
     "text": [
      "MsE 26.277391239502993\n"
     ]
    }
   ],
   "source": [
    "print(\"MsE\",metrics.mean_squared_error(y_test,predictions))\n"
   ]
  },
  {
   "cell_type": "code",
   "execution_count": 22,
   "id": "57744309",
   "metadata": {},
   "outputs": [
    {
     "name": "stdout",
     "output_type": "stream",
     "text": [
      "RMsE 5.126147797274577\n"
     ]
    }
   ],
   "source": [
    "print(\"RMsE\",np.sqrt(metrics.mean_squared_error(y_test,predictions)))\n"
   ]
  },
  {
   "cell_type": "code",
   "execution_count": 23,
   "id": "73fd7f42",
   "metadata": {},
   "outputs": [
    {
     "data": {
      "text/plain": [
       "0.716403691490276"
      ]
     },
     "execution_count": 23,
     "metadata": {},
     "output_type": "execute_result"
    }
   ],
   "source": [
    "lr.score(X_test,y_test)"
   ]
  },
  {
   "cell_type": "code",
   "execution_count": null,
   "id": "988bea45",
   "metadata": {},
   "outputs": [],
   "source": []
  }
 ],
 "metadata": {
  "kernelspec": {
   "display_name": "Python 3",
   "language": "python",
   "name": "python3"
  },
  "language_info": {
   "codemirror_mode": {
    "name": "ipython",
    "version": 3
   },
   "file_extension": ".py",
   "mimetype": "text/x-python",
   "name": "python",
   "nbconvert_exporter": "python",
   "pygments_lexer": "ipython3",
   "version": "3.8.8"
  }
 },
 "nbformat": 4,
 "nbformat_minor": 5
}
